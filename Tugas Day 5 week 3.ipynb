{
  "nbformat": 4,
  "nbformat_minor": 0,
  "metadata": {
    "kernelspec": {
      "display_name": "Python 3",
      "language": "python",
      "name": "python3"
    },
    "language_info": {
      "codemirror_mode": {
        "name": "ipython",
        "version": 3
      },
      "file_extension": ".py",
      "mimetype": "text/x-python",
      "name": "python",
      "nbconvert_exporter": "python",
      "pygments_lexer": "ipython3",
      "version": "3.7.4"
    },
    "colab": {
      "name": "evarahma61@gmail.com.ipynb",
      "provenance": [],
      "include_colab_link": true
    }
  },
  "cells": [
    {
      "cell_type": "markdown",
      "metadata": {
        "id": "view-in-github",
        "colab_type": "text"
      },
      "source": [
        "<a href=\"https://colab.research.google.com/github/evarahma61/sharing-github/blob/master/Tugas%20Day%205%20week%203.ipynb\" target=\"_parent\"><img src=\"https://colab.research.google.com/assets/colab-badge.svg\" alt=\"Open In Colab\"/></a>"
      ]
    },
    {
      "cell_type": "markdown",
      "metadata": {
        "id": "a1mlNad2cB5a",
        "colab_type": "text"
      },
      "source": [
        "Downoad file vgsales.csv <a href=\"https://blog.sanbercode.com/wp-content/uploads/2020/05/vgsales.csv\">di sini</a>"
      ]
    },
    {
      "cell_type": "code",
      "metadata": {
        "id": "HiVbvvrMcB5c",
        "colab_type": "code",
        "colab": {},
        "outputId": "33753dff-e3e5-454b-c8c5-6440c19bc751"
      },
      "source": [
        "import pandas as pd\n",
        "import matplotlib.pyplot as plt\n",
        "import numpy as np\n",
        "\n",
        "df = pd.read_csv('vgsales.csv')\n",
        "df.head()"
      ],
      "execution_count": 0,
      "outputs": [
        {
          "output_type": "execute_result",
          "data": {
            "text/html": [
              "<div>\n",
              "<style scoped>\n",
              "    .dataframe tbody tr th:only-of-type {\n",
              "        vertical-align: middle;\n",
              "    }\n",
              "\n",
              "    .dataframe tbody tr th {\n",
              "        vertical-align: top;\n",
              "    }\n",
              "\n",
              "    .dataframe thead th {\n",
              "        text-align: right;\n",
              "    }\n",
              "</style>\n",
              "<table border=\"1\" class=\"dataframe\">\n",
              "  <thead>\n",
              "    <tr style=\"text-align: right;\">\n",
              "      <th></th>\n",
              "      <th>Rank</th>\n",
              "      <th>Name</th>\n",
              "      <th>Platform</th>\n",
              "      <th>Year</th>\n",
              "      <th>Genre</th>\n",
              "      <th>Publisher</th>\n",
              "      <th>NA_Sales</th>\n",
              "      <th>EU_Sales</th>\n",
              "      <th>JP_Sales</th>\n",
              "      <th>Other_Sales</th>\n",
              "      <th>Global_Sales</th>\n",
              "    </tr>\n",
              "  </thead>\n",
              "  <tbody>\n",
              "    <tr>\n",
              "      <td>0</td>\n",
              "      <td>1</td>\n",
              "      <td>Wii Sports</td>\n",
              "      <td>Wii</td>\n",
              "      <td>2006.0</td>\n",
              "      <td>Sports</td>\n",
              "      <td>Nintendo</td>\n",
              "      <td>41.49</td>\n",
              "      <td>29.02</td>\n",
              "      <td>3.77</td>\n",
              "      <td>8.46</td>\n",
              "      <td>82.74</td>\n",
              "    </tr>\n",
              "    <tr>\n",
              "      <td>1</td>\n",
              "      <td>2</td>\n",
              "      <td>Super Mario Bros.</td>\n",
              "      <td>NES</td>\n",
              "      <td>1985.0</td>\n",
              "      <td>Platform</td>\n",
              "      <td>Nintendo</td>\n",
              "      <td>29.08</td>\n",
              "      <td>3.58</td>\n",
              "      <td>6.81</td>\n",
              "      <td>0.77</td>\n",
              "      <td>40.24</td>\n",
              "    </tr>\n",
              "    <tr>\n",
              "      <td>2</td>\n",
              "      <td>3</td>\n",
              "      <td>Mario Kart Wii</td>\n",
              "      <td>Wii</td>\n",
              "      <td>2008.0</td>\n",
              "      <td>Racing</td>\n",
              "      <td>Nintendo</td>\n",
              "      <td>15.85</td>\n",
              "      <td>12.88</td>\n",
              "      <td>3.79</td>\n",
              "      <td>3.31</td>\n",
              "      <td>35.82</td>\n",
              "    </tr>\n",
              "    <tr>\n",
              "      <td>3</td>\n",
              "      <td>4</td>\n",
              "      <td>Wii Sports Resort</td>\n",
              "      <td>Wii</td>\n",
              "      <td>2009.0</td>\n",
              "      <td>Sports</td>\n",
              "      <td>Nintendo</td>\n",
              "      <td>15.75</td>\n",
              "      <td>11.01</td>\n",
              "      <td>3.28</td>\n",
              "      <td>2.96</td>\n",
              "      <td>33.00</td>\n",
              "    </tr>\n",
              "    <tr>\n",
              "      <td>4</td>\n",
              "      <td>5</td>\n",
              "      <td>Pokemon Red/Pokemon Blue</td>\n",
              "      <td>GB</td>\n",
              "      <td>1996.0</td>\n",
              "      <td>Role-Playing</td>\n",
              "      <td>Nintendo</td>\n",
              "      <td>11.27</td>\n",
              "      <td>8.89</td>\n",
              "      <td>10.22</td>\n",
              "      <td>1.00</td>\n",
              "      <td>31.37</td>\n",
              "    </tr>\n",
              "  </tbody>\n",
              "</table>\n",
              "</div>"
            ],
            "text/plain": [
              "   Rank                      Name Platform    Year         Genre Publisher  \\\n",
              "0     1                Wii Sports      Wii  2006.0        Sports  Nintendo   \n",
              "1     2         Super Mario Bros.      NES  1985.0      Platform  Nintendo   \n",
              "2     3            Mario Kart Wii      Wii  2008.0        Racing  Nintendo   \n",
              "3     4         Wii Sports Resort      Wii  2009.0        Sports  Nintendo   \n",
              "4     5  Pokemon Red/Pokemon Blue       GB  1996.0  Role-Playing  Nintendo   \n",
              "\n",
              "   NA_Sales  EU_Sales  JP_Sales  Other_Sales  Global_Sales  \n",
              "0     41.49     29.02      3.77         8.46         82.74  \n",
              "1     29.08      3.58      6.81         0.77         40.24  \n",
              "2     15.85     12.88      3.79         3.31         35.82  \n",
              "3     15.75     11.01      3.28         2.96         33.00  \n",
              "4     11.27      8.89     10.22         1.00         31.37  "
            ]
          },
          "metadata": {
            "tags": []
          },
          "execution_count": 19
        }
      ]
    },
    {
      "cell_type": "markdown",
      "metadata": {
        "id": "wnShZeiBcB6T",
        "colab_type": "text"
      },
      "source": [
        "<h2>Quiz 1 Preparing Data</h2>\n",
        "\n",
        "Manipulasi data tersebut dengan menggroupkan berdasarkan Genre, kemudian ambil rata2 penjualan untuk setiap Region Kecuali Global_Sales berdasarkan kategori Genre."
      ]
    },
    {
      "cell_type": "code",
      "metadata": {
        "id": "HSfHPIVgcB6U",
        "colab_type": "code",
        "colab": {},
        "outputId": "b83a9251-b5e8-4ce0-a05b-14d98d38a14b"
      },
      "source": [
        "list_columns =  ['NA_Sales', 'EU_Sales', 'JP_Sales', 'Other_Sales' ]\n",
        "df_group = df.groupby('Genre')[list_columns].mean()\n",
        "df_group"
      ],
      "execution_count": 0,
      "outputs": [
        {
          "output_type": "execute_result",
          "data": {
            "text/html": [
              "<div>\n",
              "<style scoped>\n",
              "    .dataframe tbody tr th:only-of-type {\n",
              "        vertical-align: middle;\n",
              "    }\n",
              "\n",
              "    .dataframe tbody tr th {\n",
              "        vertical-align: top;\n",
              "    }\n",
              "\n",
              "    .dataframe thead th {\n",
              "        text-align: right;\n",
              "    }\n",
              "</style>\n",
              "<table border=\"1\" class=\"dataframe\">\n",
              "  <thead>\n",
              "    <tr style=\"text-align: right;\">\n",
              "      <th></th>\n",
              "      <th>NA_Sales</th>\n",
              "      <th>EU_Sales</th>\n",
              "      <th>JP_Sales</th>\n",
              "      <th>Other_Sales</th>\n",
              "    </tr>\n",
              "    <tr>\n",
              "      <th>Genre</th>\n",
              "      <th></th>\n",
              "      <th></th>\n",
              "      <th></th>\n",
              "      <th></th>\n",
              "    </tr>\n",
              "  </thead>\n",
              "  <tbody>\n",
              "    <tr>\n",
              "      <td>Action</td>\n",
              "      <td>0.264726</td>\n",
              "      <td>0.158323</td>\n",
              "      <td>0.048236</td>\n",
              "      <td>0.056508</td>\n",
              "    </tr>\n",
              "    <tr>\n",
              "      <td>Adventure</td>\n",
              "      <td>0.082271</td>\n",
              "      <td>0.049868</td>\n",
              "      <td>0.040490</td>\n",
              "      <td>0.013072</td>\n",
              "    </tr>\n",
              "    <tr>\n",
              "      <td>Fighting</td>\n",
              "      <td>0.263667</td>\n",
              "      <td>0.119481</td>\n",
              "      <td>0.103007</td>\n",
              "      <td>0.043255</td>\n",
              "    </tr>\n",
              "    <tr>\n",
              "      <td>Misc</td>\n",
              "      <td>0.235906</td>\n",
              "      <td>0.124198</td>\n",
              "      <td>0.061967</td>\n",
              "      <td>0.043312</td>\n",
              "    </tr>\n",
              "    <tr>\n",
              "      <td>Platform</td>\n",
              "      <td>0.504571</td>\n",
              "      <td>0.227573</td>\n",
              "      <td>0.147596</td>\n",
              "      <td>0.058228</td>\n",
              "    </tr>\n",
              "    <tr>\n",
              "      <td>Puzzle</td>\n",
              "      <td>0.212680</td>\n",
              "      <td>0.087251</td>\n",
              "      <td>0.098471</td>\n",
              "      <td>0.021564</td>\n",
              "    </tr>\n",
              "    <tr>\n",
              "      <td>Racing</td>\n",
              "      <td>0.287766</td>\n",
              "      <td>0.190865</td>\n",
              "      <td>0.045388</td>\n",
              "      <td>0.061865</td>\n",
              "    </tr>\n",
              "    <tr>\n",
              "      <td>Role-Playing</td>\n",
              "      <td>0.219946</td>\n",
              "      <td>0.126384</td>\n",
              "      <td>0.236767</td>\n",
              "      <td>0.040060</td>\n",
              "    </tr>\n",
              "    <tr>\n",
              "      <td>Shooter</td>\n",
              "      <td>0.444733</td>\n",
              "      <td>0.239137</td>\n",
              "      <td>0.029221</td>\n",
              "      <td>0.078389</td>\n",
              "    </tr>\n",
              "    <tr>\n",
              "      <td>Simulation</td>\n",
              "      <td>0.211430</td>\n",
              "      <td>0.130773</td>\n",
              "      <td>0.073472</td>\n",
              "      <td>0.036355</td>\n",
              "    </tr>\n",
              "    <tr>\n",
              "      <td>Sports</td>\n",
              "      <td>0.291283</td>\n",
              "      <td>0.160635</td>\n",
              "      <td>0.057702</td>\n",
              "      <td>0.057532</td>\n",
              "    </tr>\n",
              "    <tr>\n",
              "      <td>Strategy</td>\n",
              "      <td>0.100881</td>\n",
              "      <td>0.066579</td>\n",
              "      <td>0.072628</td>\n",
              "      <td>0.016681</td>\n",
              "    </tr>\n",
              "  </tbody>\n",
              "</table>\n",
              "</div>"
            ],
            "text/plain": [
              "              NA_Sales  EU_Sales  JP_Sales  Other_Sales\n",
              "Genre                                                  \n",
              "Action        0.264726  0.158323  0.048236     0.056508\n",
              "Adventure     0.082271  0.049868  0.040490     0.013072\n",
              "Fighting      0.263667  0.119481  0.103007     0.043255\n",
              "Misc          0.235906  0.124198  0.061967     0.043312\n",
              "Platform      0.504571  0.227573  0.147596     0.058228\n",
              "Puzzle        0.212680  0.087251  0.098471     0.021564\n",
              "Racing        0.287766  0.190865  0.045388     0.061865\n",
              "Role-Playing  0.219946  0.126384  0.236767     0.040060\n",
              "Shooter       0.444733  0.239137  0.029221     0.078389\n",
              "Simulation    0.211430  0.130773  0.073472     0.036355\n",
              "Sports        0.291283  0.160635  0.057702     0.057532\n",
              "Strategy      0.100881  0.066579  0.072628     0.016681"
            ]
          },
          "metadata": {
            "tags": []
          },
          "execution_count": 14
        }
      ]
    },
    {
      "cell_type": "markdown",
      "metadata": {
        "id": "i76e8pN5cB6d",
        "colab_type": "text"
      },
      "source": [
        "Expected Output :\n",
        "\n",
        "![image.png](attachment:image.png)"
      ]
    },
    {
      "cell_type": "markdown",
      "metadata": {
        "id": "GMy0Dg_ScB6g",
        "colab_type": "text"
      },
      "source": [
        "<h2>Perbandingan Kuantitatif Barplot : Grouping Visualisasi Dengan Barplot</h2>\n",
        "\n",
        "1. Visualisasikan gambar yang tadi kita manipulasi, untuk menhasilkan visualisasi seperti di bawah ini\n",
        "2. Tuliskan apa insight yang bisa kamu dapat dari visualisasi tersebut"
      ]
    },
    {
      "cell_type": "code",
      "metadata": {
        "id": "2Z7dAKMFcB6i",
        "colab_type": "code",
        "colab": {},
        "outputId": "b06a5c17-096e-4f34-dd6e-6236fb470d4f"
      },
      "source": [
        "plt.style.use('ggplot')\n",
        "fig, ax = plt.subplots(figsize=(16, 8))\n",
        "\n",
        "x = np.arange(0, 12, 3)\n",
        "x0 = 0\n",
        "for row in df_group.iterrows() :\n",
        "    ax.bar(x+x0, row[1], label=row[0], width=0.2)\n",
        "    x0 = x0+0.2 \n",
        "    \n",
        "#plt.xticks(x+1, df_group.columns)\n",
        "ax.set_xticks(x+1)\n",
        "ax.set_xticklabels(df_group.columns)\n",
        "\n",
        "ax.set_xlabel('Region Sales')\n",
        "ax.set_ylabel('Mean Sales')\n",
        "ax.set_title('Mean Sales video Games By Genre')\n",
        "fig.legend()\n",
        "\n",
        "plt.show()"
      ],
      "execution_count": 0,
      "outputs": [
        {
          "output_type": "display_data",
          "data": {
            "image/png": "[encoded data removed]",
            "text/plain": [
              "<Figure size 1152x576 with 1 Axes>"
            ]
          },
          "metadata": {
            "tags": []
          }
        }
      ]
    },
    {
      "cell_type": "code",
      "metadata": {
        "id": "tE16licucB69",
        "colab_type": "code",
        "colab": {}
      },
      "source": [
        "1. Rata-rata penjualan tertinggi di Na_sales adalah produk dengan genre Strategy\n",
        "2. Sedangkan Rata-rata penjualan tertinggi pada EU_Sales adalah game dengan genre Shooter"
      ],
      "execution_count": 0,
      "outputs": []
    },
    {
      "cell_type": "markdown",
      "metadata": {
        "id": "PlF19JYXcB7K",
        "colab_type": "text"
      },
      "source": [
        "![image.png](attachment:image.png)"
      ]
    },
    {
      "cell_type": "markdown",
      "metadata": {
        "id": "rwtrDyHjcB7M",
        "colab_type": "text"
      },
      "source": [
        "<h2> Quiz 3 :Perbandingan Kuantitatif Barplot : Stack Barplot</h2>\n",
        "\n",
        "1. Visualisasikan gambar yang tadi kita manipulasi, untuk menhasilkan visualisasi seperti di bawah ini\n",
        "2. Tuliskan apa insight yang bisa kamu dapat dari visualisasi tersebut"
      ]
    },
    {
      "cell_type": "code",
      "metadata": {
        "id": "HzC4pcjocB7N",
        "colab_type": "code",
        "colab": {},
        "outputId": "75d633f2-0f06-45f1-d19b-caa077c017df"
      },
      "source": [
        "fig, ax = plt.subplots(figsize=(16,8))\n",
        "\n",
        "x = np.arange(4)\n",
        "bottom = [0, 0, 0, 0]\n",
        "for row in df_group.iterrows() :\n",
        "    ax.bar(x, row[1], label=row[0], bottom=bottom)\n",
        "    bottom = bottom + row[1]\n",
        "   \n",
        "ax.set_xticks(x)\n",
        "ax.set_xticklabels(df_group.columns)\n",
        "\n",
        "ax.set_xlabel('Region Sales')\n",
        "ax.set_ylabel('Mean Sales')\n",
        "ax.set_title('Mean Sales video Games By Genre')\n",
        "fig.legend()    \n",
        "plt.show()\n",
        "    "
      ],
      "execution_count": 0,
      "outputs": [
        {
          "output_type": "display_data",
          "data": {
            "image/png": "[encoded data removed]",
            "text/plain": [
              "<Figure size 1152x576 with 1 Axes>"
            ]
          },
          "metadata": {
            "tags": []
          }
        }
      ]
    },
    {
      "cell_type": "markdown",
      "metadata": {
        "id": "CfTqGqdOcB7Y",
        "colab_type": "text"
      },
      "source": [
        "![image.png](attachment:image.png)"
      ]
    },
    {
      "cell_type": "code",
      "metadata": {
        "id": "h-6P_RkUcB7a",
        "colab_type": "code",
        "colab": {}
      },
      "source": [
        ""
      ],
      "execution_count": 0,
      "outputs": []
    }
  ]
}