{
  "nbformat": 4,
  "nbformat_minor": 0,
  "metadata": {
    "colab": {
      "name": "evarahma61@gmail.com.ipynb",
      "provenance": [],
      "collapsed_sections": [],
      "include_colab_link": true
    },
    "kernelspec": {
      "display_name": "Python 3",
      "language": "python",
      "name": "python3"
    },
    "language_info": {
      "codemirror_mode": {
        "name": "ipython",
        "version": 3
      },
      "file_extension": ".py",
      "mimetype": "text/x-python",
      "name": "python",
      "nbconvert_exporter": "python",
      "pygments_lexer": "ipython3",
      "version": "3.7.4"
    }
  },
  "cells": [
    {
      "cell_type": "markdown",
      "metadata": {
        "id": "view-in-github",
        "colab_type": "text"
      },
      "source": [
        "<a href=\"https://colab.research.google.com/github/evarahma61/sharing-github/blob/master/Tugas_Day3_week1.ipynb\" target=\"_parent\"><img src=\"https://colab.research.google.com/assets/colab-badge.svg\" alt=\"Open In Colab\"/></a>"
      ]
    },
    {
      "cell_type": "markdown",
      "metadata": {
        "colab_type": "text",
        "id": "I6jmLA-RYrt5"
      },
      "source": [
        "<h2>Soal 1 : Helper Function</h2>\n",
        "\n",
        "Jawab Pertanyaan di bawah ini :\n",
        "\n",
        "Misalkan kamu ingin mengetahui tentang kegunaan fungsi 'len' di Python, maka fungsi apa yang bisa kamu gunakan untuk menolong kamu?"
      ]
    },
    {
      "cell_type": "code",
      "metadata": {
        "colab_type": "code",
        "id": "VrvyQxGJYrt9",
        "outputId": "2353521f-811e-4896-8412-7d6cc0a9e4d4",
        "colab": {
          "base_uri": "https://localhost:8080/",
          "height": 119
        }
      },
      "source": [
        "# lengkapi code ini\n",
        "print(help(len))"
      ],
      "execution_count": 0,
      "outputs": [
        {
          "output_type": "stream",
          "text": [
            "Help on built-in function len in module builtins:\n",
            "\n",
            "len(obj, /)\n",
            "    Return the number of items in a container.\n",
            "\n",
            "None\n"
          ],
          "name": "stdout"
        }
      ]
    },
    {
      "cell_type": "markdown",
      "metadata": {
        "colab_type": "text",
        "id": "KrcuFTuAYruT"
      },
      "source": [
        "<h2>Soal 2 : Built-in Function</h2>\n",
        "\n",
        "Jawab Pertanyaan di bawah ini :\n",
        "    \n",
        "Apa itu built-in Function?\n",
        "\n",
        "Sebutkan 3 built-in Function di pyhon!\n",
        "\n",
        "Berikan contoh masing2 1 cara penggunaan built-in function yang kamu sebutkan sebelumnya"
      ]
    },
    {
      "cell_type": "markdown",
      "metadata": {
        "colab_type": "text",
        "id": "xro-58_CYruW"
      },
      "source": [
        "built-in function adalah fungsi yang tekah tersedia dalam python (fungsi bawaan) yang dapat digunakan langsung\n",
        "\n",
        "Contoh built-in function \n",
        "1. min()\n",
        "2. max()\n",
        "3. sorted()\n",
        "\n"
      ]
    },
    {
      "cell_type": "code",
      "metadata": {
        "colab_type": "code",
        "id": "Xv7lHkgfYruY",
        "outputId": "95ff1048-7842-4448-fed5-b914f5dea89c",
        "colab": {
          "base_uri": "https://localhost:8080/",
          "height": 68
        }
      },
      "source": [
        "# Contoh penggunaan built in function\n",
        "\n",
        "a = [4, 6, 2, 5, 8, 1, 9]\n",
        "#min()\n",
        "print(min(a))\n",
        " \n",
        "#max()\n",
        "print(max(a))\n",
        "\n",
        "#sorted()\n",
        "print(sorted(a))"
      ],
      "execution_count": 0,
      "outputs": [
        {
          "output_type": "stream",
          "text": [
            "1\n",
            "9\n",
            "[1, 2, 4, 5, 6, 8, 9]\n"
          ],
          "name": "stdout"
        }
      ]
    },
    {
      "cell_type": "markdown",
      "metadata": {
        "colab_type": "text",
        "id": "yhWXiPNDYrul"
      },
      "source": [
        "<h2>Soal 3 : Method dan Function</h2>\n",
        "\n",
        "Jawab Pertanyaan di bawah ini :\n",
        "    \n",
        "- Apa perbedaan method dan function?"
      ]
    },
    {
      "cell_type": "markdown",
      "metadata": {
        "colab_type": "text",
        "id": "rqpTJlgDYrun"
      },
      "source": [
        "Fungsi adalah blok kode yang digunakan untuk tugas spesifik, Sebuah fungsi dapat memiliki 0 argumen atau lebih dari satu argumen. Fungsi juga dapat mengembalikan suatu nilai.\n",
        "\n",
        "Method dalam python hampir mirip dengan fungsi, namun method berasosiasi dengan objek/kelas. Perbedaanya adalah jika method digunakan secara implisit oleh sebuah objek, jadi untuk memanggil method harus menggunakan nama objek nya terlebih dahulu kemudian dot method-nya"
      ]
    },
    {
      "cell_type": "markdown",
      "metadata": {
        "colab_type": "text",
        "id": "tUU1xgYBYrup"
      },
      "source": [
        "<h2>Soal 4 : Menggunkan Method String</h2>\n",
        "\n",
        "Lengkapi kode untuk menghasilkan suatu output yang di harapkan"
      ]
    },
    {
      "cell_type": "code",
      "metadata": {
        "colab_type": "code",
        "id": "037gauOGYrur",
        "outputId": "ef5925ab-1a05-46d0-a6da-dad58486ba07",
        "colab": {
          "base_uri": "https://localhost:8080/",
          "height": 51
        }
      },
      "source": [
        "kalimat = \"Corona cepat selesai\"\n",
        "\n",
        "# gunakan method untuk mengubah nilai kalimat menjadi uppercase semua kemudian tampilkan hasilnya\n",
        "print(kalimat.upper())\n",
        "\n",
        "# gunakan method untuk menghitung berapa huruf e di dalam kalimat\n",
        "print(kalimat.count('e'))"
      ],
      "execution_count": 0,
      "outputs": [
        {
          "output_type": "stream",
          "text": [
            "CORONA CEPAT SELESAI\n",
            "3\n"
          ],
          "name": "stdout"
        }
      ]
    },
    {
      "cell_type": "markdown",
      "metadata": {
        "colab_type": "text",
        "id": "fPTd4R5VYru5"
      },
      "source": [
        "Expected Output :\n",
        "\n",
        "CORONA CEPAT SELESAI\n",
        "\n",
        "3"
      ]
    },
    {
      "cell_type": "markdown",
      "metadata": {
        "colab_type": "text",
        "id": "tH44SxdOYru7"
      },
      "source": [
        "<h2>Soal 5 : Menggunkan Method List</h2>\n",
        "\n",
        "Lengkapi kode untuk menghasilkan suatu output yang di harapkan"
      ]
    },
    {
      "cell_type": "code",
      "metadata": {
        "colab_type": "code",
        "id": "Mds3oCEtYru9",
        "outputId": "50ea5e7a-8253-4482-f596-c6b436fd8d4f",
        "colab": {
          "base_uri": "https://localhost:8080/",
          "height": 51
        }
      },
      "source": [
        "areas = [11.25, 18.0, 20.0, 10.75, 9.50]\n",
        "\n",
        "# gunakan suatu method dari object list untuk menampilkan index dari nilai 20\n",
        "print(areas.index(20))\n",
        "\n",
        "# gunakan suatu method dari object list untuk menambahkan nilai 15.5 kedalam list ke index terakhirnya\n",
        "areas.append(15.5)\n",
        "print(areas)"
      ],
      "execution_count": 0,
      "outputs": [
        {
          "output_type": "stream",
          "text": [
            "2\n",
            "[11.25, 18.0, 20.0, 10.75, 9.5, 15.5]\n"
          ],
          "name": "stdout"
        }
      ]
    },
    {
      "cell_type": "markdown",
      "metadata": {
        "colab_type": "text",
        "id": "1ik5BXfhYrvI"
      },
      "source": [
        "Expected Output :\n",
        "\n",
        "2\n",
        "\n",
        "[11.25, 18.0, 20.0, 10.75, 9.50, 15.5]"
      ]
    },
    {
      "cell_type": "markdown",
      "metadata": {
        "colab_type": "text",
        "id": "IPjp5vwDYrvL"
      },
      "source": [
        "<h2>Soal 6 : Membuat Simple Function</h2>\n",
        "\n",
        "Buatlah suatu fungsi yang menerima satu input argumen berbentuk list dan mempunyai elemen bertipe numeric semua, dimana fungsi tersebut berguna untuk menghitung rata2 dari kumpulan elemen list tersebut. namai fungsi tersebut 'mean_list'"
      ]
    },
    {
      "cell_type": "code",
      "metadata": {
        "colab_type": "code",
        "id": "smoKI9zIYrvO",
        "outputId": "b7b57496-8dd2-4a1b-9244-46bf9771964a",
        "colab": {
          "base_uri": "https://localhost:8080/",
          "height": 34
        }
      },
      "source": [
        "obj_list = [11.25, 18.0, 20.0, 10.75, 9.50]\n",
        "def mean_list(inp_list):\n",
        "    mean = sum(obj_list)/len(obj_list)\n",
        "    return mean\n",
        "    \n",
        "print(mean_list(obj_list))"
      ],
      "execution_count": 0,
      "outputs": [
        {
          "output_type": "stream",
          "text": [
            "13.9\n"
          ],
          "name": "stdout"
        }
      ]
    },
    {
      "cell_type": "markdown",
      "metadata": {
        "colab_type": "text",
        "id": "MVAvoHHgYrva"
      },
      "source": [
        "Expected Output :\n",
        "\n",
        "13.9"
      ]
    },
    {
      "cell_type": "markdown",
      "metadata": {
        "colab_type": "text",
        "id": "A8jjpNC8Yrvc"
      },
      "source": [
        "<h2>Soal 7 : Membuat Function dengan Multiple arguments</h2>\n",
        "\n",
        "Buatlah suatu fungsi untuk melakukan penggabungan antara dua list"
      ]
    },
    {
      "cell_type": "code",
      "metadata": {
        "colab_type": "code",
        "id": "r42z4mafYrve",
        "outputId": "60c6e27c-ff51-4061-b392-13cc1ec865d1",
        "colab": {
          "base_uri": "https://localhost:8080/",
          "height": 34
        }
      },
      "source": [
        "obj_list = [2, 4, 5, 6]\n",
        "obj_pengali = [1, 2, 3]\n",
        "def kali_list(a,b):\n",
        "    return a+b\n",
        "    \n",
        "    \n",
        "print(kali_list(obj_list, obj_pengali))"
      ],
      "execution_count": 0,
      "outputs": [
        {
          "output_type": "stream",
          "text": [
            "[2, 4, 5, 6, 1, 2, 3]\n"
          ],
          "name": "stdout"
        }
      ]
    },
    {
      "cell_type": "markdown",
      "metadata": {
        "colab_type": "text",
        "id": "RYhU921kYrvp"
      },
      "source": [
        "Expected Output :\n",
        "\n",
        "[2, 4, 5, 6, 1, 2, 3]"
      ]
    }
  ]
}