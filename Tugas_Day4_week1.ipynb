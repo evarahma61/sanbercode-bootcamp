{
  "nbformat": 4,
  "nbformat_minor": 0,
  "metadata": {
    "colab": {
      "name": "Tugas Day 4.ipynb",
      "provenance": [],
      "collapsed_sections": [],
      "include_colab_link": true
    },
    "kernelspec": {
      "display_name": "Python 3",
      "language": "python",
      "name": "python3"
    },
    "language_info": {
      "codemirror_mode": {
        "name": "ipython",
        "version": 3
      },
      "file_extension": ".py",
      "mimetype": "text/x-python",
      "name": "python",
      "nbconvert_exporter": "python",
      "pygments_lexer": "ipython3",
      "version": "3.7.4"
    }
  },
  "cells": [
    {
      "cell_type": "markdown",
      "metadata": {
        "id": "view-in-github",
        "colab_type": "text"
      },
      "source": [
        "<a href=\"https://colab.research.google.com/github/evarahma61/sharing-github/blob/master/Tugas_Day4_week1.ipynb\" target=\"_parent\"><img src=\"https://colab.research.google.com/assets/colab-badge.svg\" alt=\"Open In Colab\"/></a>"
      ]
    },
    {
      "cell_type": "markdown",
      "metadata": {
        "colab_type": "text",
        "id": "a9HYUdCUsrKl"
      },
      "source": [
        "<h2>Quiz 1 : Comparison Operator</h2>\n",
        "\n",
        "- Berikan contoh comparison dari tipe data string\n",
        "- Berikan contoh comparison dari tipe data boolean\n",
        "- Berikan contoh comparison dari tipe data integer"
      ]
    },
    {
      "cell_type": "code",
      "metadata": {
        "colab_type": "code",
        "id": "lXMCHZ71srKp",
        "outputId": "958f6541-330d-4970-fa97-23818de9239b",
        "colab": {
          "base_uri": "https://localhost:8080/",
          "height": 68
        }
      },
      "source": [
        "x == 'Eva'\n",
        "print(x)\n",
        "\n",
        "y = True\n",
        "print(y)\n",
        "\n",
        "z = 1\n",
        "print(5>z)"
      ],
      "execution_count": 0,
      "outputs": [
        {
          "output_type": "stream",
          "text": [
            "Eva\n",
            "True\n",
            "True\n"
          ],
          "name": "stdout"
        }
      ]
    },
    {
      "cell_type": "markdown",
      "metadata": {
        "colab_type": "text",
        "id": "IbNoZvVssrK5"
      },
      "source": [
        "<h2>Quiz 2 : Boolean Comparison</h2>\n",
        "\n",
        "- Berikan contoh gabungan multiple comparison menggunkan Boolean Comparisin 'and'\n",
        "- Berikan contoh gabungan multiple comparison menggunkan Boolean Comparisin 'or'\n",
        "- Berikan contoh gabungan multiple comparison menggunkan Boolean Comparisin 'not'"
      ]
    },
    {
      "cell_type": "code",
      "metadata": {
        "colab_type": "code",
        "id": "7eU1vPLCsrK7",
        "outputId": "d8a7eb83-07e6-4db6-ea13-26af6613015d",
        "colab": {
          "base_uri": "https://localhost:8080/",
          "height": 68
        }
      },
      "source": [
        "def coba(x) :\n",
        "    if (x > 0) and (x < 100) :\n",
        "        print(\"Berbentuk cair\")\n",
        "    elif (x < 0) or (x == 0) :\n",
        "        print(\"Berbentuk es\")\n",
        "    elif not(x > 120) :\n",
        "        print(\"uap\") \n",
        "    else :\n",
        "        print(\"nggatau\")\n",
        "coba(50)\n",
        "coba(-6)\n",
        "coba(120)\n",
        "\n",
        "\n"
      ],
      "execution_count": 0,
      "outputs": [
        {
          "output_type": "stream",
          "text": [
            "Berbentuk cair\n",
            "Berbentuk es\n",
            "uap\n"
          ],
          "name": "stdout"
        }
      ]
    },
    {
      "cell_type": "markdown",
      "metadata": {
        "colab_type": "text",
        "id": "Yp_g_sPMsrLH"
      },
      "source": [
        "<h2>Quiz 3 : If-Else Statement</h2>\n",
        "\n",
        "Lengkapi kode untuk menghasilkan suatu output yang di harapkan\n",
        "\n",
        "- Bualah sebuah if-else statement yang dimana akan mem-print 'Besar' jika ruangan adalah 'Kamar' dan ukuran lebih dari 12, kemudian mem-print 'Sedang' jika ruangan adalah 'Kamar' dan ukuran lebih dari 6 dan memprint 'Kecil' jika ruangan adalah 'Kamar' dan ukuran ruangan lebih kecil dan sama dengan 6."
      ]
    },
    {
      "cell_type": "code",
      "metadata": {
        "colab_type": "code",
        "id": "euRiRNupsrLK",
        "outputId": "7f2e48c6-e817-4464-c4dd-ea54fb61796f",
        "colab": {
          "base_uri": "https://localhost:8080/",
          "height": 34
        }
      },
      "source": [
        "ruangan = 'Kamar'\n",
        "size = 20\n",
        "\n",
        "if (ruangan == 'Kamar') and (size > 12):\n",
        "    print('Besar')\n",
        "elif (ruangan == 'Kamar') and (size > 6) and (ruangan < 12) :\n",
        "    print('Sedang')\n",
        "elif (ruangan == 'Kamar') and (size < 6):\n",
        "    print('Kecil')"
      ],
      "execution_count": 0,
      "outputs": [
        {
          "output_type": "stream",
          "text": [
            "Besar\n"
          ],
          "name": "stdout"
        }
      ]
    },
    {
      "cell_type": "markdown",
      "metadata": {
        "colab_type": "text",
        "id": "IcoJXJT1srLW"
      },
      "source": [
        "<h2>Quiz 4 : Comparison Operator dengan fungsi</h2>\n",
        "\n",
        "Buatlah sebuah fungsi yang menerima satu argument bertipe data numeric dan menghasilkan sebuah return sebagai berikut :\n",
        "- menghasilkan return 'Aneh' jika nilai dari argument tersebut adalah bilangan ganjil\n",
        "- menghasilkan return 'Tidak Aneh' jika nilai dari argument tersebut adalah bilangan genap dan diantara nilai 2 sampai 5 (2 dan 5 termasuk)\n",
        "- menghasilkan return 'Aneh' jika nilai dari argument tersebut adalah bilangan genap dan diantara nilai 6 sampai 20 (6 dan 20 termasuk)\n",
        "- menghasilkan return 'Tidak Aneh' jika nilai dari argument tersebut adalah bilangan genap dan lebih besari dari 20"
      ]
    },
    {
      "cell_type": "code",
      "metadata": {
        "colab_type": "code",
        "id": "g8F_qfEKsrLZ",
        "outputId": "56e7cfa4-b270-47e5-eddf-3415284bf98d",
        "colab": {
          "base_uri": "https://localhost:8080/",
          "height": 85
        }
      },
      "source": [
        "# Buat fungsi\n",
        "def ehe(x) :\n",
        "    if (x % 2 == 1) :\n",
        "        print(\"Aneh\")\n",
        "    elif (x % 2 == 0) and (x >= 2) and (x <= 5) :\n",
        "        print(\"Tidak aneh\")\n",
        "    elif (x % 2 == 0) and (x >= 6) and (x <= 20) :\n",
        "        print(\"Aneh\")\n",
        "    elif (x % 2 == 0) and (x > 20) :\n",
        "        print(\"Tidak aneh\")\n",
        "   \n",
        "\n",
        "ehe(3)\n",
        "ehe(2)\n",
        "ehe(20)\n",
        "ehe(30)"
      ],
      "execution_count": 0,
      "outputs": [
        {
          "output_type": "stream",
          "text": [
            "Aneh\n",
            "Tidak aneh\n",
            "Aneh\n",
            "Tidak aneh\n"
          ],
          "name": "stdout"
        }
      ]
    },
    {
      "cell_type": "markdown",
      "metadata": {
        "colab_type": "text",
        "id": "gf0D64xOsrLl"
      },
      "source": [
        "<h2>Quiz 5 : While Loop dan For Loop</h2>\n",
        "\n",
        "- Apa perbedaan while loop dan for loop?\n",
        "- Berikan contoh sederhana cara menggunakan while loop dan for loop"
      ]
    },
    {
      "cell_type": "code",
      "metadata": {
        "id": "FdIsGknBnr76",
        "colab_type": "code",
        "colab": {}
      },
      "source": [
        "#Perbedaannya dalah jika for loop digunakan untuk perulangan yang sudah diketauhui banyak iterasi atau pengulanganya\n",
        "#Jika while loop digunakan untuk perulangan yang belum dikatehui perulanganya atau yang hanya diketahui kondisinya saja"
      ],
      "execution_count": 0,
      "outputs": []
    },
    {
      "cell_type": "code",
      "metadata": {
        "colab_type": "code",
        "id": "l7KIgpjHsrLo",
        "outputId": "cff7e8df-6cee-4454-ac22-25558152d154",
        "colab": {
          "base_uri": "https://localhost:8080/",
          "height": 238
        }
      },
      "source": [
        "\n",
        "#Contoh While Loop\n",
        "print(\"Contoh Perulangan While\")\n",
        "n = 5\n",
        "while n > 0 :\n",
        "    print(n)\n",
        "    n -= 1\n",
        "    \n",
        "    \n",
        "# Contoh For Loop\n",
        "print(\"Contoh Perulangan For\")\n",
        "for i in range (6) :\n",
        "    print(i)\n",
        "    \n"
      ],
      "execution_count": 0,
      "outputs": [
        {
          "output_type": "stream",
          "text": [
            "Contoh Perulangan While\n",
            "5\n",
            "4\n",
            "3\n",
            "2\n",
            "1\n",
            "Contoh Perulangan For\n",
            "0\n",
            "1\n",
            "2\n",
            "3\n",
            "4\n",
            "5\n"
          ],
          "name": "stdout"
        }
      ]
    },
    {
      "cell_type": "markdown",
      "metadata": {
        "colab_type": "text",
        "id": "fZQpBGCgsrLz"
      },
      "source": [
        "<h2>Quiz 6 : While Loop</h2>\n",
        "    \n",
        "Buatlah sebuah code while loop sebagai berikut :\n",
        "- Buatlah suatu fungsi yang merima satu input nilai numeric\n",
        "- Dalam fungsi, Buat sebuah while-loop dengan melakukan comparasi terhadap inputan tersebut, dimana looping/iterasi terus berjalan apabila nilai inputan tidak sama dengan 0\n",
        "- Dalam setiap iterasi update nilai variable inputan itu, jika input lebih dari 0, maka kurangi variabel tersebut sebesar 1, selain itu tambahkan 1\n",
        "- print nilai variable input dalam setiap awal iterasi"
      ]
    },
    {
      "cell_type": "code",
      "metadata": {
        "colab_type": "code",
        "id": "yOiqjrU2srL1",
        "outputId": "9fa90ec7-d0f0-4357-af29-532a47f11ed7",
        "colab": {
          "base_uri": "https://localhost:8080/",
          "height": 187
        }
      },
      "source": [
        "a = 10\n",
        "\n",
        "def fungsi_while(x):\n",
        "        while x > 0 :\n",
        "            print(x)\n",
        "            x -= 1\n",
        "            \n",
        "fungsi_while(a)\n",
        "        \n",
        "\n"
      ],
      "execution_count": 0,
      "outputs": [
        {
          "output_type": "stream",
          "text": [
            "10\n",
            "9\n",
            "8\n",
            "7\n",
            "6\n",
            "5\n",
            "4\n",
            "3\n",
            "2\n",
            "1\n"
          ],
          "name": "stdout"
        }
      ]
    },
    {
      "cell_type": "markdown",
      "metadata": {
        "colab_type": "text",
        "id": "lKzngRrlsrMD"
      },
      "source": [
        "Expected Output :\n",
        "\n",
        "10\n",
        "\n",
        "9\n",
        "\n",
        "8\n",
        "\n",
        "7\n",
        "\n",
        "6\n",
        "\n",
        "5\n",
        "\n",
        "4\n",
        "\n",
        "3\n",
        "\n",
        "2\n",
        "\n",
        "1"
      ]
    },
    {
      "cell_type": "markdown",
      "metadata": {
        "colab_type": "text",
        "id": "IWg3Z_zZsrMG"
      },
      "source": [
        "<h2>Quiz 7 : For Loop</h2>\n",
        "    \n",
        "Lengkapi kode untuk menghasilkan suatu output yang di harapkan:\n",
        "\n",
        "- Buatlah sebuah loop dengan mengiterasi sebuah objek list kemudian di kalikan dengan index dari list tersebut dan print hasilnya"
      ]
    },
    {
      "cell_type": "code",
      "metadata": {
        "colab_type": "code",
        "id": "_Jl5i7WKsrMI",
        "outputId": "9d2c4073-a303-43f6-9e4b-cbd0a03cf2f4",
        "colab": {
          "base_uri": "https://localhost:8080/",
          "height": 102
        }
      },
      "source": [
        "obj_list= [1, 16, 11, 10, 5]\n",
        "\n",
        "# lengkapi code di bawah\n",
        "for index, object_list in enumerate(obj_list):\n",
        "    print(index*object_list)\n"
      ],
      "execution_count": 0,
      "outputs": [
        {
          "output_type": "stream",
          "text": [
            "0\n",
            "16\n",
            "22\n",
            "30\n",
            "20\n"
          ],
          "name": "stdout"
        }
      ]
    },
    {
      "cell_type": "markdown",
      "metadata": {
        "colab_type": "text",
        "id": "OGawROjnsrMU"
      },
      "source": [
        "Expected Output :\n",
        "\n",
        "0\n",
        "\n",
        "16\n",
        "\n",
        "22\n",
        "\n",
        "30\n",
        "\n",
        "20\n"
      ]
    }
  ]
}